{
 "cells": [
  {
   "cell_type": "markdown",
   "metadata": {},
   "source": [
    "# Gradient Decent and Linear regression with one variable"
   ]
  },
  {
   "cell_type": "code",
   "execution_count": 4,
   "metadata": {},
   "outputs": [],
   "source": [
    "import numpy as np\n",
    "import pandas as pd\n",
    "\n",
    "import matplotlib.pyplot as plt\n",
    "import matplotlib.patches as mpatches\n",
    "%matplotlib inline"
   ]
  },
  {
   "cell_type": "code",
   "execution_count": 5,
   "metadata": {},
   "outputs": [],
   "source": [
    "data = pd.read_csv('ex1data1.txt', header = None)\n",
    "\n",
    "data = np.array(data)\n",
    "X = data[:, [0]] \n",
    "y = data[:, [1]] "
   ]
  },
  {
   "cell_type": "markdown",
   "metadata": {},
   "source": [
    "# Plotting the Data"
   ]
  },
  {
   "cell_type": "code",
   "execution_count": 6,
   "metadata": {},
   "outputs": [
    {
     "data": {
      "text/plain": [
       "(5, 25)"
      ]
     },
     "execution_count": 6,
     "metadata": {},
     "output_type": "execute_result"
    },
    {
     "data": {
      "image/png": "[encoded data removed]",
      "text/plain": [
       "<matplotlib.figure.Figure at 0x7f65058a79d0>"
      ]
     },
     "metadata": {},
     "output_type": "display_data"
    }
   ],
   "source": [
    "plt.plot(X, y, 'rx', 10)\n",
    "plt.ylabel('Profit in $10,000s')\n",
    "plt.xlabel('Population of City in 10,000s')\n",
    "plt.xlim(5,25)"
   ]
  },
  {
   "cell_type": "markdown",
   "metadata": {},
   "source": [
    "Cost function\n",
    "\n",
    "$$ J(\\theta) =  \\frac{1}{2m} \\sum_{i=1}^{m} (h_\\theta(x^{(i)})-y^{(i)})^2 $$\n",
    "\n",
    "where\n",
    "\n",
    "$$ h_\\theta(x) = {\\theta^T}x = \\theta_0 +{\\theta_1}x_1 $$\n",
    "\n",
    "but for X\n",
    "\n",
    "$$ h_\\theta(x) =X * \\theta $$\n",
    "\n",
    "Linear Regression\n",
    "with Gradient Decent\n",
    "\n",
    "\n",
    "$$ \\theta_j = \\theta_j - \\alpha \\frac{1}{m} \\sum_{i=1}^{m} (h_\\theta(x^{(i)})-y^{(i)})x_j^{(i)} $$ \n"
   ]
  },
  {
   "cell_type": "code",
   "execution_count": 7,
   "metadata": {},
   "outputs": [],
   "source": [
    "X = np.insert(X, 0, values=1, axis=1)\n",
    "theta = np.zeros((2,1)) #initialize fitting parameters\n",
    "iterations = 1500\n",
    "alpha = 0.01"
   ]
  },
  {
   "cell_type": "code",
   "execution_count": 8,
   "metadata": {},
   "outputs": [],
   "source": [
    "def computeCost(X, y, theta):\n",
    "    m = float(len(y))  \n",
    "    J = (1/(2*m))*((X.dot(theta) - y)**2).sum()\n",
    "\n",
    "    return J"
   ]
  },
  {
   "cell_type": "code",
   "execution_count": 9,
   "metadata": {},
   "outputs": [
    {
     "data": {
      "text/plain": [
       "32.072733877455676"
      ]
     },
     "execution_count": 9,
     "metadata": {},
     "output_type": "execute_result"
    }
   ],
   "source": [
    "computeCost(X, y, theta)"
   ]
  },
  {
   "cell_type": "code",
   "execution_count": 10,
   "metadata": {},
   "outputs": [],
   "source": [
    "def gradientDescent(X, y, theta, alpha, num_iters):\n",
    "    m = float(len(y)) \n",
    "    J_history = np.zeros((num_iters,1))    \n",
    "    \n",
    "    for iter in range(num_iters):\n",
    "        \n",
    "        theta = theta - (alpha/m) * (X.transpose().dot(X.dot(theta) - y))\n",
    "        \n",
    "        J_history[iter] = computeCost(X, y, theta)\n",
    "        \n",
    "    return  theta"
   ]
  },
  {
   "cell_type": "code",
   "execution_count": 11,
   "metadata": {},
   "outputs": [
    {
     "name": "stdout",
     "output_type": "stream",
     "text": [
      "Theta found by gradient descent: -3.6302914394, 1.16636235034\n"
     ]
    }
   ],
   "source": [
    "theta = gradientDescent(X, y, theta, alpha, iterations)\n",
    "print \"Theta found by gradient descent:\", str(theta[0,0]) +\",\", str(theta[1,0])\n",
    "\n",
    "#octave -3.630291 1.166362"
   ]
  },
  {
   "cell_type": "code",
   "execution_count": 12,
   "metadata": {},
   "outputs": [
    {
     "data": {
      "text/plain": [
       "<matplotlib.legend.Legend at 0x7f6505724a10>"
      ]
     },
     "execution_count": 12,
     "metadata": {},
     "output_type": "execute_result"
    },
    {
     "data": {
      "image/png": "[encoded data removed]",
      "text/plain": [
       "<matplotlib.figure.Figure at 0x7f65058c0410>"
      ]
     },
     "metadata": {},
     "output_type": "display_data"
    }
   ],
   "source": [
    "plt.plot(X, y, 'rx', 10)\n",
    "plt.ylabel('Profit in $10,000s')\n",
    "plt.xlabel('Population of City in 10,000s')\n",
    "plt.xlim(4,25)\n",
    "plt.plot(X[:,[1]], X.dot(theta), '-')\n",
    "\n",
    "red_patch = mpatches.Patch(color='red', label='Training data')\n",
    "green_patch = mpatches.Patch(color='green',linestyle='-', label='Linear regression')\n",
    "plt.legend(handles=[green_patch, red_patch], loc=4)"
   ]
  },
  {
   "cell_type": "code",
   "execution_count": 13,
   "metadata": {},
   "outputs": [],
   "source": [
    "def predict(X, theta):\n",
    "    \n",
    "    if X.shape[1] != theta.shape[0]:\n",
    "        if X.shape[1]+1 == theta.shape[0]:\n",
    "            X =np.insert(X, 0, values=1, axis=1)\n",
    "        else:\n",
    "            raise IndexError('dimensions incorrect')\n",
    "           \n",
    "    prediction = X.dot(theta)\n",
    "    return prediction "
   ]
  },
  {
   "cell_type": "code",
   "execution_count": 14,
   "metadata": {},
   "outputs": [
    {
     "name": "stdout",
     "output_type": "stream",
     "text": [
      "For population = 35,000, we predict a profit of 4519.7678677\n",
      "For population = 70,000, we predict a profit of 45342.4501294\n"
     ]
    }
   ],
   "source": [
    "predict1 = np.array([1, 3.5]).dot(theta)\n",
    "print 'For population = 35,000, we predict a profit of', str(predict1[0]*10000)\n",
    "\n",
    "predict2 = np.array([1, 7]).dot(theta)\n",
    "print 'For population = 70,000, we predict a profit of', str(predict2[0]*10000)"
   ]
  },
  {
   "cell_type": "markdown",
   "metadata": {},
   "source": [
    "# Linear regression with multiple variables"
   ]
  },
  {
   "cell_type": "code",
   "execution_count": 15,
   "metadata": {},
   "outputs": [],
   "source": [
    "data2 = pd.read_csv('ex1data2.txt', header = None)\n",
    "data2 = np.array(data2)\n",
    "X1 = data2[:, [0, 1]]\n",
    "y1 = data2[:,[2]]"
   ]
  },
  {
   "cell_type": "markdown",
   "metadata": {},
   "source": [
    "Feature Normalization\n",
    "$$ x_i=\\frac{x_i - \\mu_i}{\\sigma_i} $$\n",
    "where\n",
    " $ \\mu_i $ is avarage value of  $x_i$\n",
    "\n",
    " $ \\sigma_i $ is range (max - min) or standart deviation \n",
    " "
   ]
  },
  {
   "cell_type": "code",
   "execution_count": 16,
   "metadata": {},
   "outputs": [],
   "source": [
    "def featureNormalize(X):\n",
    "    mu = np.mean(X,axis = 0)\n",
    "    sigma = np.std(X, axis = 0, ddof=1)\n",
    "    X_norm = (X - mu)/sigma\n",
    "    \n",
    "    return X_norm"
   ]
  },
  {
   "cell_type": "code",
   "execution_count": 17,
   "metadata": {},
   "outputs": [],
   "source": [
    "X1 = featureNormalize(X1) "
   ]
  },
  {
   "cell_type": "code",
   "execution_count": 18,
   "metadata": {},
   "outputs": [],
   "source": [
    "X1 = np.insert(X1, 0, values=1, axis=1)"
   ]
  },
  {
   "cell_type": "code",
   "execution_count": 19,
   "metadata": {},
   "outputs": [],
   "source": [
    "theta1 = np.zeros((3,1)) #initialize fitting parameters\n",
    "alpha1 = 0.01\n",
    "num_iters1 = 400"
   ]
  },
  {
   "cell_type": "markdown",
   "metadata": {},
   "source": [
    "Cost Function (Multivariate case)\n",
    "\n",
    "$$ J(\\theta) =  \\frac{1}{2m}(X\\theta-\\vec{y})^T(X\\theta-\\vec{y}) $$"
   ]
  },
  {
   "cell_type": "code",
   "execution_count": 20,
   "metadata": {},
   "outputs": [],
   "source": [
    "def computeCostMulti(X, y, theta):\n",
    "    m = float(len(y))\n",
    "    J = (1/(2*m))*((X.dot(theta)-y).transpose()).dot(X.dot(theta)-y)\n",
    "    \n",
    "    return J"
   ]
  },
  {
   "cell_type": "code",
   "execution_count": 21,
   "metadata": {},
   "outputs": [],
   "source": [
    "def gradientDescentMulti (X, y, theta, alpha, num_iters):\n",
    "    m = float(len(y))\n",
    "    J_history = np.zeros((num_iters,1))\n",
    "    \n",
    "    for iter in range(num_iters):\n",
    "        theta = theta - (alpha/m) * (X.transpose().dot(X.dot(theta) - y))\n",
    "        J_history[iter] = computeCostMulti(X, y, theta)\n",
    "        \n",
    "    return  theta"
   ]
  },
  {
   "cell_type": "code",
   "execution_count": 22,
   "metadata": {},
   "outputs": [
    {
     "name": "stdout",
     "output_type": "stream",
     "text": [
      "Theta found by gradient descent: 334302.063993, 100087.116006, 3673.54845093\n"
     ]
    }
   ],
   "source": [
    "theta1 = gradientDescentMulti(X1, y1, theta1, alpha1, num_iters1)\n",
    "print \"Theta found by gradient descent:\", str(theta1[0,0]) +\",\", str(theta1[1,0]) +\",\", str(theta1[2,0])"
   ]
  },
  {
   "cell_type": "code",
   "execution_count": 26,
   "metadata": {},
   "outputs": [
    {
     "name": "stdout",
     "output_type": "stream",
     "text": [
      "[[ 346492.69520391]\n",
      " [ 283017.47552873]\n",
      " [ 383771.79247346]\n",
      " [ 255016.6030121 ]\n",
      " [ 464164.90980135]\n",
      " [ 336332.87017772]\n",
      " [ 274705.24438079]\n",
      " [ 261229.35448943]\n",
      " [ 255310.03836893]\n",
      " [ 269667.52853355]\n",
      " [ 330665.43984958]\n",
      " [ 333394.6340011 ]\n",
      " [ 319540.9154212 ]\n",
      " [ 655135.88997608]\n",
      " [ 241204.43399667]\n",
      " [ 376004.88247471]\n",
      " [ 242926.08497874]\n",
      " [ 237174.26131888]\n",
      " [ 414921.23739461]\n",
      " [ 468069.13958296]\n",
      " [ 304049.93919094]\n",
      " [ 314461.65000949]\n",
      " [ 283521.24711345]\n",
      " [ 333436.18356556]\n",
      " [ 571426.70778302]\n",
      " [ 220046.02743827]\n",
      " [ 265133.58427104]\n",
      " [ 399640.59739226]\n",
      " [ 358583.21323728]\n",
      " [ 413620.25886834]\n",
      " [ 308290.44809663]\n",
      " [ 197796.9785815 ]\n",
      " [ 343259.72946767]\n",
      " [ 476591.70695879]\n",
      " [ 314418.80624224]\n",
      " [ 262488.78345124]\n",
      " [ 237552.09000742]\n",
      " [ 354846.47591632]\n",
      " [ 617185.52866116]\n",
      " [ 358624.76280174]\n",
      " [ 286250.44126497]\n",
      " [ 363369.04329215]\n",
      " [ 409631.63575501]\n",
      " [ 232640.31705637]\n",
      " [ 183984.80956607]\n",
      " [ 319582.46498566]\n",
      " [ 233018.14574491]]\n"
     ]
    }
   ],
   "source": [
    "print predict(X1,theta1)\n"
   ]
  },
  {
   "cell_type": "code",
   "execution_count": null,
   "metadata": {},
   "outputs": [],
   "source": []
  }
 ],
 "metadata": {
  "kernelspec": {
   "display_name": "Python 2",
   "language": "python",
   "name": "python2"
  },
  "language_info": {
   "codemirror_mode": {
    "name": "ipython",
    "version": 2
   },
   "file_extension": ".py",
   "mimetype": "text/x-python",
   "name": "python",
   "nbconvert_exporter": "python",
   "pygments_lexer": "ipython2",
   "version": "2.7.12"
  }
 },
 "nbformat": 4,
 "nbformat_minor": 1
}
